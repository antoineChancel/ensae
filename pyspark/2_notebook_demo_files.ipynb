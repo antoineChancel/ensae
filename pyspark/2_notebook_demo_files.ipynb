{
 "cells": [
  {
   "cell_type": "markdown",
   "id": "11957420",
   "metadata": {},
   "source": [
    "# ENSAE pyspark notebook\n",
    "## Files"
   ]
  },
  {
   "cell_type": "code",
   "execution_count": 1,
   "id": "b855388e",
   "metadata": {
    "scrolled": true
   },
   "outputs": [],
   "source": [
    "from pyspark import SparkContext\n",
    "from pyspark import SparkFiles\n",
    "\n",
    "sc = SparkContext(\"local\", \"Demo ENSAE\") #master = 'spark://****:9092'"
   ]
  },
  {
   "cell_type": "code",
   "execution_count": 2,
   "id": "c50b29d2",
   "metadata": {},
   "outputs": [],
   "source": [
    "data = \"data.txt\""
   ]
  },
  {
   "cell_type": "code",
   "execution_count": 3,
   "id": "cf485658",
   "metadata": {},
   "outputs": [
    {
     "data": {
      "text/plain": [
       "'/tmp/spark-e1cdf4c7-302b-4f81-b024-bc405e3ffa51/userFiles-6886bf85-7255-439e-8650-2517d034e21f'"
      ]
     },
     "execution_count": 3,
     "metadata": {},
     "output_type": "execute_result"
    }
   ],
   "source": [
    "SparkFiles.getRootDirectory()"
   ]
  },
  {
   "cell_type": "code",
   "execution_count": 4,
   "id": "3ba96825",
   "metadata": {},
   "outputs": [],
   "source": [
    "sc.addFile(data)"
   ]
  },
  {
   "cell_type": "code",
   "execution_count": 5,
   "id": "183b2d50",
   "metadata": {},
   "outputs": [
    {
     "data": {
      "text/plain": [
       "'/tmp/spark-e1cdf4c7-302b-4f81-b024-bc405e3ffa51/userFiles-6886bf85-7255-439e-8650-2517d034e21f/data.txt'"
      ]
     },
     "execution_count": 5,
     "metadata": {},
     "output_type": "execute_result"
    }
   ],
   "source": [
    "SparkFiles.get(\"data.txt\") "
   ]
  },
  {
   "cell_type": "code",
   "execution_count": null,
   "id": "373ced67",
   "metadata": {},
   "outputs": [],
   "source": []
  }
 ],
 "metadata": {
  "kernelspec": {
   "display_name": "Python 3",
   "language": "python",
   "name": "python3"
  },
  "language_info": {
   "codemirror_mode": {
    "name": "ipython",
    "version": 3
   },
   "file_extension": ".py",
   "mimetype": "text/x-python",
   "name": "python",
   "nbconvert_exporter": "python",
   "pygments_lexer": "ipython3",
   "version": "3.8.8"
  }
 },
 "nbformat": 4,
 "nbformat_minor": 5
}
