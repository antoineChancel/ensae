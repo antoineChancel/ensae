{
 "cells": [
  {
   "cell_type": "markdown",
   "id": "3bf62b5a",
   "metadata": {},
   "source": [
    "# ENSAE pyspark notebook\n",
    "## Broadcast & accumulators"
   ]
  },
  {
   "cell_type": "code",
   "execution_count": 1,
   "id": "8a7958dc",
   "metadata": {},
   "outputs": [],
   "source": [
    "from pyspark import SparkContext \n",
    "sc = SparkContext(\"local\", \"Broadcast app\")"
   ]
  },
  {
   "cell_type": "markdown",
   "id": "6c0b82e6",
   "metadata": {},
   "source": [
    "## broadcast()"
   ]
  },
  {
   "cell_type": "code",
   "execution_count": 2,
   "id": "a227ebd1",
   "metadata": {},
   "outputs": [
    {
     "name": "stdout",
     "output_type": "stream",
     "text": [
      "Stored data -> ['scala', 'java', 'hadoop', 'spark', 'akka']\n",
      "Printing a particular element in RDD -> hadoop\n"
     ]
    }
   ],
   "source": [
    "words_new = sc.broadcast([\"scala\", \"java\", \"hadoop\", \"spark\", \"akka\"])\n",
    "data = words_new.value\n",
    "print(\"Stored data -> %s\" % (data))\n",
    "elem = words_new.value[2]\n",
    "print(\"Printing a particular element in RDD -> %s\" % (elem))"
   ]
  },
  {
   "cell_type": "markdown",
   "id": "c871e149",
   "metadata": {},
   "source": [
    "## accumulator()"
   ]
  },
  {
   "cell_type": "code",
   "execution_count": 4,
   "id": "fe9537d1",
   "metadata": {},
   "outputs": [
    {
     "name": "stdout",
     "output_type": "stream",
     "text": [
      "Accumulated value is -> 150\n"
     ]
    }
   ],
   "source": [
    "num = sc.accumulator(10) \n",
    "def f(x): \n",
    "   global num \n",
    "   num+=x \n",
    "rdd = sc.parallelize([20,30,40,50]) \n",
    "rdd.foreach(f) \n",
    "final = num.value \n",
    "print(\"Accumulated value is -> %i\" % (final))"
   ]
  },
  {
   "cell_type": "code",
   "execution_count": null,
   "id": "8cfecbc1",
   "metadata": {},
   "outputs": [],
   "source": []
  }
 ],
 "metadata": {
  "kernelspec": {
   "display_name": "Python 3",
   "language": "python",
   "name": "python3"
  },
  "language_info": {
   "codemirror_mode": {
    "name": "ipython",
    "version": 3
   },
   "file_extension": ".py",
   "mimetype": "text/x-python",
   "name": "python",
   "nbconvert_exporter": "python",
   "pygments_lexer": "ipython3",
   "version": "3.8.8"
  }
 },
 "nbformat": 4,
 "nbformat_minor": 5
}
